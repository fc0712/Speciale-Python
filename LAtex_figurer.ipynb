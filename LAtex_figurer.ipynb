{
  "cells": [
    {
      "cell_type": "markdown",
      "metadata": {
        "id": "5l7P9zajJDBm"
      },
      "source": [
        "# Opsætning af figur layout\n"
      ]
    },
    {
      "cell_type": "code",
      "execution_count": null,
      "metadata": {
        "colab": {
          "base_uri": "https://localhost:8080/"
        },
        "id": "gyXhJZKVJuof",
        "outputId": "a3d01a3e-f755-4352-949d-bfc05de52bb0"
      },
      "outputs": [],
      "source": [
        "import matplotlib.pyplot as plt\r\n",
        "plt.style.reload_library()\r\n",
        "plt.style.use(['science',\"ieee\"])\r\n"
      ]
    },
    {
      "cell_type": "code",
      "execution_count": null,
      "metadata": {
        "colab": {
          "base_uri": "https://localhost:8080/"
        },
        "id": "0LPjVoN10_IL",
        "outputId": "645bff60-c3a3-4b47-be87-a234771ed58b"
      },
      "outputs": [],
      "source": [
        "plt.rcParams.keys()"
      ]
    },
    {
      "cell_type": "code",
      "execution_count": null,
      "metadata": {
        "id": "4TX68yDYEUd-"
      },
      "outputs": [],
      "source": [
        "from matplotlib import cycler\r\n",
        "import seaborn as sns\r\n",
        "import pandas as pd\r\n",
        "plt.rcParams.update({\r\n",
        "    \"ytick.minor.visible\" : False,\r\n",
        "     \"xtick.minor.visible\" : False,\r\n",
        "      \"axes.prop_cycle\" : cycler('color', sns.color_palette(\"Blues_r\").as_hex()),\r\n",
        "      \"figure.figsize\": (4.2,2.1),\r\n",
        "      \"xtick.top\": False,\r\n",
        "      \"ytick.right\":False})\r\n"
      ]
    },
    {
      "cell_type": "markdown",
      "metadata": {
        "id": "ZVypEA-u_h5U"
      },
      "source": [
        "# Metode"
      ]
    },
    {
      "cell_type": "markdown",
      "metadata": {
        "id": "QOswO0o8_Z1f"
      },
      "source": [
        "## Oersigt over obervationer over tid"
      ]
    },
    {
      "cell_type": "code",
      "execution_count": null,
      "metadata": {
        "id": "OMXRTX9OEZQt"
      },
      "outputs": [],
      "source": [
        "data_metode = pd.read_csv(\"content/drive/MyDrive/Cand.fælles/Speciale/datarobot_input/input.csv.zip\")"
      ]
    },
    {
      "cell_type": "code",
      "execution_count": null,
      "metadata": {
        "id": "TNve1wQf_2mf"
      },
      "outputs": [],
      "source": [
        "data_metode[\"year\"] = pd.to_datetime(data_metode[\"Forecasttidspunkt\"]).dt.year"
      ]
    },
    {
      "cell_type": "code",
      "execution_count": null,
      "metadata": {
        "id": "RiT837LVBALV"
      },
      "outputs": [],
      "source": [
        "year_obs = data_metode.groupby(\"year\")[\"EPS_actual\"].count()\n"
      ]
    },
    {
      "cell_type": "code",
      "execution_count": null,
      "metadata": {
        "colab": {
          "base_uri": "https://localhost:8080/"
        },
        "id": "984l4HP3COW-",
        "outputId": "df76977b-38a0-44a7-d226-fef42449b9d1"
      },
      "outputs": [],
      "source": [
        "year_obs.rename(\"Obervationer over tid\",inplace=True)"
      ]
    },
    {
      "cell_type": "code",
      "execution_count": null,
      "metadata": {
        "colab": {
          "base_uri": "https://localhost:8080/"
        },
        "id": "hLCIEagyoQml",
        "outputId": "dd42adb7-1c97-4429-c862-60b52e4b56ff"
      },
      "outputs": [],
      "source": [
        "year_obs.sum()"
      ]
    },
    {
      "cell_type": "code",
      "execution_count": null,
      "metadata": {
        "id": "xTq-5-3L1k3Z"
      },
      "outputs": [],
      "source": [
        "årstal = year_obs.index"
      ]
    },
    {
      "cell_type": "code",
      "execution_count": null,
      "metadata": {
        "colab": {
          "base_uri": "https://localhost:8080/"
        },
        "id": "bIYa1zoFJVw4",
        "outputId": "d50bba98-689a-4206-942e-7cdd009d158a"
      },
      "outputs": [],
      "source": [
        "year_obs"
      ]
    },
    {
      "cell_type": "code",
      "execution_count": null,
      "metadata": {
        "id": "Uh53wLMvONIU"
      },
      "outputs": [],
      "source": []
    },
    {
      "cell_type": "code",
      "execution_count": null,
      "metadata": {
        "colab": {
          "base_uri": "https://localhost:8080/",
          "height": 997
        },
        "id": "iOUQbaudBd1S",
        "outputId": "54669544-4559-4ca9-978f-6c1d28a024b4"
      },
      "outputs": [],
      "source": [
        "års_obs = sns.catplot(data=data_metode,x=\"year\",kind=\"count\",color=\"#084488\",height=2.10,aspect=2)\n",
        "års_obs.set_xticklabels(rotation=90)\n",
        "års_obs.set_ylabels(\"Antal observationer\")\n",
        "års_obs.set_xlabels(\"Year\")\n",
        "års_obs.despine(top=False,right=False)\n",
        "plt.savefig(\"nytsnsplot.pgf\")\n"
      ]
    },
    {
      "cell_type": "code",
      "execution_count": null,
      "metadata": {
        "id": "Vbtf0thQoN7t"
      },
      "outputs": [],
      "source": []
    },
    {
      "cell_type": "markdown",
      "metadata": {
        "id": "UoobmMRxECuF"
      },
      "source": [
        "##Oversigt over fordelingen af observationer pr industri\n"
      ]
    },
    {
      "cell_type": "code",
      "execution_count": null,
      "metadata": {
        "colab": {
          "base_uri": "https://localhost:8080/"
        },
        "id": "hTB-I3I0r5t3",
        "outputId": "e7df59a6-050f-4c78-ddb1-4a07e0f6ef55"
      },
      "outputs": [],
      "source": [
        "print(sns.color_palette(\"Blues_r\",12).as_hex())"
      ]
    },
    {
      "cell_type": "code",
      "execution_count": null,
      "metadata": {
        "colab": {
          "base_uri": "https://localhost:8080/",
          "height": 75
        },
        "id": "JNW10S5xtuw-",
        "outputId": "70f1271f-d6aa-4cc5-a8d8-be5002ac1c17"
      },
      "outputs": [],
      "source": [
        "sns.color_palette(\"bone\")"
      ]
    },
    {
      "cell_type": "code",
      "execution_count": null,
      "metadata": {
        "id": "bL_7axWrEGLm"
      },
      "outputs": [],
      "source": [
        "industri_opdeling = data_metode.groupby(\"industry_fama\")[\"Forecasttidspunkt\"].count()"
      ]
    },
    {
      "cell_type": "code",
      "execution_count": null,
      "metadata": {
        "id": "UiJTsyrMExB1"
      },
      "outputs": [],
      "source": [
        "data_metode.rename(columns={\"industry_fama\": \"industri\"},inplace=True)"
      ]
    },
    {
      "cell_type": "code",
      "execution_count": null,
      "metadata": {
        "id": "kKXOaeoRyP0Y"
      },
      "outputs": [],
      "source": [
        "data_metode[\"industri\"] = data_metode[\"industri\"].apply(lambda x: x.capitalize())"
      ]
    },
    {
      "cell_type": "code",
      "execution_count": null,
      "metadata": {
        "id": "mvrjYU1jzf_Y"
      },
      "outputs": [],
      "source": [
        "data_metode[\"industri\"].replace({\"Chemicals and allied products\": \"Chemicals and A.P\",\"Consumer nondurables\": \"Consumer N.D\",\"Wholesale \\\\& retail\": \"Wholesale and Retail\"},inplace=True)"
      ]
    },
    {
      "cell_type": "code",
      "execution_count": null,
      "metadata": {
        "colab": {
          "base_uri": "https://localhost:8080/"
        },
        "id": "B4LLj35caNUi",
        "outputId": "9626ddc2-95cd-4a01-8fc4-0f4bed04ab2a"
      },
      "outputs": [],
      "source": [
        "data_metode.industri.unique()"
      ]
    },
    {
      "cell_type": "code",
      "execution_count": null,
      "metadata": {},
      "outputs": [],
      "source": []
    },
    {
      "cell_type": "code",
      "execution_count": null,
      "metadata": {
        "colab": {
          "base_uri": "https://localhost:8080/",
          "height": 991
        },
        "id": "4VKQKk6IEXV5",
        "outputId": "4d91a8da-d5ff-4054-a252-92ca39bf9c02"
      },
      "outputs": [],
      "source": [
        "industri_obs = sns.catplot(data=data_metode,x=\"industri\",kind=\"count\",palette=sns.color_palette(\"Blues_r\",12),height=2.10,aspect=2)\r\n",
        "industri_obs.set_xticklabels(rotation=90)\r\n",
        "industri_obs.set_ylabels(\"Antal observationer\")\r\n",
        "industri_obs.set_xlabels(\"Industri\")\r\n",
        "industri_obs.despine(top=False,right=False)\r\n",
        "plt.savefig(\"industriobs.pgf\")\r\n",
        "\r\n",
        "\r\n",
        "\r\n"
      ]
    },
    {
      "cell_type": "markdown",
      "metadata": {
        "id": "LYuIs5QZJQj3"
      },
      "source": [
        "## EPS distribution"
      ]
    },
    {
      "cell_type": "code",
      "execution_count": null,
      "metadata": {
        "colab": {
          "base_uri": "https://localhost:8080/"
        },
        "id": "C5TgvsvfNxbP",
        "outputId": "515b6e42-3e65-4f9f-eeaa-2cb978e41b74"
      },
      "outputs": [],
      "source": [
        "data_metode.EPS_actual.min()\n",
        "data_metode.EPS_actual.max()\n"
      ]
    },
    {
      "cell_type": "code",
      "execution_count": null,
      "metadata": {},
      "outputs": [],
      "source": [
        "data_metode"
      ]
    },
    {
      "cell_type": "code",
      "execution_count": null,
      "metadata": {},
      "outputs": [],
      "source": [
        "data_metode.rename(columns={'EPS_actual': 'Realiseret EPS'},inplace=True)"
      ]
    },
    {
      "cell_type": "code",
      "execution_count": null,
      "metadata": {
        "colab": {
          "base_uri": "https://localhost:8080/",
          "height": 1000
        },
        "id": "NLvOr-1gJT7E",
        "outputId": "94665f08-303c-4cf5-e7bf-fb7ea86e3439"
      },
      "outputs": [],
      "source": [
        "sns.histplot(data=data_metode,x=\"Realiseret EPS\",bins=75,color=\"#084488\")\r\n",
        "plt.ylabel(\"Antal observationer\")\r\n",
        "plt.annotate(r'Min: $-10,8$',xy=(-10,25000))\r\n",
        "plt.annotate(r'Max: $3,82$',xy=(-10,22000))\r\n",
        "\r\n",
        "plt.savefig(\"epshistogram.pdf\")\r\n",
        "plt.savefig(\"epshistogram.pgf\")"
      ]
    },
    {
      "cell_type": "markdown",
      "metadata": {
        "id": "cB1TpDyF3rRN"
      },
      "source": [
        "## Imputede værdier"
      ]
    },
    {
      "cell_type": "code",
      "execution_count": null,
      "metadata": {
        "id": "KyxeaEq2-TSZ"
      },
      "outputs": [],
      "source": [
        "imputede_værdier = pd.read_excel(\"content/drive/MyDrive/Cand.fælles/Speciale/Imputede værdier.xlsx\")"
      ]
    },
    {
      "cell_type": "code",
      "execution_count": null,
      "metadata": {
        "id": "Okw6hF_PDTzG"
      },
      "outputs": [],
      "source": [
        "imputede_værdier.drop(17,inplace=True)"
      ]
    },
    {
      "cell_type": "code",
      "execution_count": null,
      "metadata": {
        "colab": {
          "base_uri": "https://localhost:8080/",
          "height": 565
        },
        "id": "W_dnSUVQAnLV",
        "outputId": "23dc3e79-6f5a-42dd-d88f-8203312f4f22"
      },
      "outputs": [],
      "source": [
        "imputede_værdier"
      ]
    },
    {
      "cell_type": "code",
      "execution_count": null,
      "metadata": {
        "id": "MMlzre4U-d6F"
      },
      "outputs": [],
      "source": [
        "imputede_værdier.replace({\"SG&A\":\"SG\\&A\",\"PP&E\":\"PP\\&E\", \"Non Operating income\": \"N.O. income\"},inplace=True)"
      ]
    },
    {
      "cell_type": "code",
      "execution_count": null,
      "metadata": {
        "id": "JPa9_tmZKxH1"
      },
      "outputs": [],
      "source": [
        "imputede_værdier.rename(columns={\"Inputvairable\": \"Inputvariable\"},inplace=True)"
      ]
    },
    {
      "cell_type": "code",
      "execution_count": null,
      "metadata": {
        "id": "s7QIzwY5B_20"
      },
      "outputs": [],
      "source": [
        "# Sorterede værdier - Fjern denne\n",
        "imputede_værdier.sort_values(by=\"Imputede værdier\",ascending=False,inplace=True)"
      ]
    },
    {
      "cell_type": "code",
      "execution_count": null,
      "metadata": {
        "colab": {
          "base_uri": "https://localhost:8080/",
          "height": 1000
        },
        "id": "Jp0IWTZH-g1x",
        "outputId": "9f86ec02-d364-4307-a9c9-e09ae1a2becb"
      },
      "outputs": [],
      "source": [
        "imputede_graf = sns.catplot(data=imputede_værdier,x=\"Inputvariable\",y=\"Imputede værdier\",palette=sns.color_palette(\"Blues_r\",18),kind=\"bar\",height=2.1,aspect=2)\r\n",
        "imputede_graf.set_xticklabels(rotation=90)\r\n",
        "imputede_graf.despine(right=False,top=False)\r\n",
        "imputede_graf.savefig('imputing.pgf')\r\n",
        "imputede_graf.savefig('imputing.pdf')\r\n"
      ]
    },
    {
      "cell_type": "markdown",
      "metadata": {
        "id": "jqbGyLWPJvpj"
      },
      "source": [
        "**Alternativ graf uden brug af FacetGrid, men hvor rotation er lidt mere drilsk. Fordelen er nu vi har en helt boks hele vejen rundt**"
      ]
    },
    {
      "cell_type": "code",
      "execution_count": null,
      "metadata": {
        "colab": {
          "base_uri": "https://localhost:8080/",
          "height": 1000
        },
        "id": "XOumxcGgJLy2",
        "outputId": "14eba54a-345e-4b1b-88c2-2fdc35bf0711"
      },
      "outputs": [],
      "source": [
        "sns.barplot(data=imputede_værdier,x=\"Inputvariable\",y=\"Imputede værdier\",palette=sns.color_palette(\"Blues_r\",18))\n",
        "axis_rot = plt.gca()\n",
        "for tick in axis_rot.get_xticklabels():\n",
        "    tick.set_rotation(90)"
      ]
    },
    {
      "cell_type": "markdown",
      "metadata": {
        "id": "pcpq1iHdRJVq"
      },
      "source": [
        "# Modellering"
      ]
    },
    {
      "cell_type": "markdown",
      "metadata": {
        "id": "3voFyzaHRGSn"
      },
      "source": [
        "## Hyperparameter historie"
      ]
    },
    {
      "cell_type": "code",
      "execution_count": null,
      "metadata": {
        "colab": {
          "base_uri": "https://localhost:8080/"
        },
        "id": "wu_QtYfFRQFG",
        "outputId": "b52d45e4-5eb7-4482-8c35-7d1fc2381c05"
      },
      "outputs": [],
      "source": [
        "import optuna\r\n",
        "import joblib\r\n",
        "study = joblib.load(\"content/drive/MyDrive/Cand.fælles/Speciale/Python/hyperparametertuning_study.pkl\")"
      ]
    },
    {
      "cell_type": "code",
      "execution_count": null,
      "metadata": {
        "colab": {
          "base_uri": "https://localhost:8080/",
          "height": 596
        },
        "id": "v2YolrhGSAQI",
        "outputId": "544af7e5-7e1e-4796-e3c0-0791f02cf507"
      },
      "outputs": [],
      "source": [
        "study.trials_dataframe()"
      ]
    },
    {
      "cell_type": "code",
      "execution_count": null,
      "metadata": {},
      "outputs": [],
      "source": [
        "study.best_trial"
      ]
    },
    {
      "cell_type": "code",
      "execution_count": null,
      "metadata": {
        "id": "3kxnBKltRndQ"
      },
      "outputs": [],
      "source": [
        "trials_df = study.trials_dataframe()"
      ]
    },
    {
      "cell_type": "code",
      "execution_count": null,
      "metadata": {
        "colab": {
          "base_uri": "https://localhost:8080/",
          "height": 1000
        },
        "id": "uLQSkgWWYLre",
        "outputId": "672222fc-e908-4510-fd11-c3ceeb2da243"
      },
      "outputs": [],
      "source": [
        "plt.scatter(x=trials_df[\"number\"],y=trials_df[\"value\"],s=2)\r\n",
        "plt.ylim(0.30,0.45)\r\n",
        "plt.xlabel(\"Kørsels nr.\")\r\n",
        "plt.ylabel(\"MAE\")\r\n",
        "plt.scatter(155, 0.3266674125188159, marker=\"*\",color='red',s=6)\r\n",
        "\r\n",
        "plt.savefig(\"hyperparamertuning.pdf\")\r\n",
        "plt.savefig(\"hyperparamertuning.pgf\")"
      ]
    },
    {
      "cell_type": "code",
      "execution_count": null,
      "metadata": {
        "id": "R_CGLSJrfhKb"
      },
      "outputs": [],
      "source": [
        "#trials_df.rename(columns=dic_renamer_trials,inplace=True)\n",
        "#dic_renamer_trials = {\"params_bagging_temperature\": \"Bagging temperature\",\t\"params_boosting_type\": \"Boosting type\",\t\"params_bootstrap_type\": \"Bootstrap type\",\t\"params_colsample_bylevel\": \"Colsample by level\",\t\"params_depth\" : \"Depth\",\t\"params_subsample\": \"Subsample\"}"
      ]
    },
    {
      "cell_type": "markdown",
      "metadata": {
        "id": "bdM6IDWDnyXk"
      },
      "source": [
        "## Hyperameter parametre"
      ]
    },
    {
      "cell_type": "code",
      "execution_count": null,
      "metadata": {
        "id": "eWFgG2vsgioL"
      },
      "outputs": [],
      "source": [
        "hyper_features = {\"Depth\": 0.54, \"Bootstrap type\": 0.26, \"Colsample by level\": 0.19, \"Boosting type\": 0.01}"
      ]
    },
    {
      "cell_type": "code",
      "execution_count": null,
      "metadata": {
        "colab": {
          "base_uri": "https://localhost:8080/",
          "height": 1000
        },
        "id": "UpEf30XNVrpB",
        "outputId": "61d60f09-6bb0-4c36-eeec-0e7d46f7856f"
      },
      "outputs": [],
      "source": [
        "pd.DataFrame.from_dict(hyper_features,orient=\"index\",columns=[\"Parametre importance\"]).sort_values(\"Parametre importance\").plot.barh()\r\n",
        "plt.legend(loc=\"lower right\")\r\n",
        "\r\n",
        "plt.savefig(\"hyperparamertuning_parametre.pdf\")\r\n",
        "plt.savefig(\"hyperparamertuning_parametre.pgf\")"
      ]
    },
    {
      "cell_type": "markdown",
      "metadata": {
        "id": "3rXIJqx8bGUv"
      },
      "source": []
    },
    {
      "cell_type": "markdown",
      "metadata": {
        "id": "bplzA5WHn1ta"
      },
      "source": [
        "## Cross Validation"
      ]
    },
    {
      "cell_type": "code",
      "execution_count": null,
      "metadata": {
        "id": "q9E9HejBn3qx"
      },
      "outputs": [],
      "source": [
        "cross_val_df = pd.read_csv(\"content/drive/MyDrive/Cand.fælles/Speciale/Cross Validation -Datarobot vs Catboost - Værdier.csv\",decimal=\",\")"
      ]
    },
    {
      "cell_type": "code",
      "execution_count": null,
      "metadata": {
        "colab": {
          "base_uri": "https://localhost:8080/",
          "height": 201
        },
        "id": "J0JNMksooBMA",
        "outputId": "a81d5585-e727-4eaa-d44e-66277d1f333e"
      },
      "outputs": [],
      "source": [
        "cross_val_df"
      ]
    },
    {
      "cell_type": "code",
      "execution_count": null,
      "metadata": {
        "colab": {
          "base_uri": "https://localhost:8080/",
          "height": 1000
        },
        "id": "gKldcTbdoEDI",
        "outputId": "4d3c5c96-76ef-4d2d-a235-dadad7e319a2"
      },
      "outputs": [],
      "source": [
        "sns.scatterplot(x=cross_val_df[\"Tid(sekunder)\"],y=cross_val_df[\"Gennemsnitlig MAE\"],s=8,hue=cross_val_df[\"Model Navn\"],palette=sns.color_palette(\"Blues_r\",5))\r\n",
        "plt.savefig(\"crossvaldatarobot.pdf\")\r\n",
        "plt.savefig(\"crossvaldatarobot.pgf\")"
      ]
    },
    {
      "cell_type": "code",
      "execution_count": null,
      "metadata": {
        "colab": {
          "base_uri": "https://localhost:8080/",
          "height": 841
        },
        "id": "7i8MQ0OUoBCW",
        "outputId": "2ddfec6c-6197-47db-f710-aa36aa0a21e4"
      },
      "outputs": [],
      "source": [
        "sns.barplot(data=cross_val_df,x=\"Gennemsnitlig MAE\",y=\"Model Navn\")\r\n",
        "plt.xlim((0.2,0.45))\r\n",
        "plt.savefig(\"crossvaldatarobot_bar.pdf\")\r\n",
        "plt.savefig(\"crossvaldatarobot_bar.pgf\")"
      ]
    },
    {
      "cell_type": "markdown",
      "metadata": {
        "id": "Pumuq_Qd_lRK"
      },
      "source": [
        "# Analyse"
      ]
    },
    {
      "cell_type": "markdown",
      "metadata": {
        "id": "zewq9yiC3Vje"
      },
      "source": [
        "## Feature Importance"
      ]
    },
    {
      "cell_type": "code",
      "execution_count": null,
      "metadata": {
        "id": "FUL3SfMa3Yp1"
      },
      "outputs": [],
      "source": [
        "feature_imp_q1 = pd.read_excel(\"content/drive/MyDrive/Cand.fælles/Speciale/Feature Importance.xlsx\",sheet_name=\"Q1\")\r\n",
        "feature_imp_q2 = pd.read_excel(\"content/drive/MyDrive/Cand.fælles/Speciale/Feature Importance.xlsx\",sheet_name=\"Q2\")\r\n",
        "feature_imp_q4 = pd.read_excel(\"content/drive/MyDrive/Cand.fælles/Speciale/Feature Importance.xlsx\",sheet_name=\"Q4\")"
      ]
    },
    {
      "cell_type": "code",
      "execution_count": null,
      "metadata": {
        "id": "uD0Hs9BqFHFp"
      },
      "outputs": [],
      "source": [
        "feature_imp_q1.replace({\"Sum af 104 resterende inputvariable\": \"Sum af rest\"},inplace=True)\n",
        "feature_imp_q2.replace({\"Sum af 104 resterende inputvariable\": \"Sum af rest\"},inplace=True)\n",
        "feature_imp_q4.replace({\"Sum af 104 resterende inputvariable\": \"Sum af rest\"},inplace=True)"
      ]
    },
    {
      "cell_type": "code",
      "execution_count": null,
      "metadata": {},
      "outputs": [],
      "source": [
        "fig1,ax1 = plt.subplots(1,1,figsize=(1,3))\r\n",
        "sns.barplot(data=feature_imp_q1,x=\"SHAP\",y=\"Inputvariable\",palette=sns.color_palette(\"Blues_r\",21),ax=ax1)\r\n",
        "fig1.savefig(\"featuresq1.pdf\")\r\n",
        "\r\n",
        "\r\n",
        "fig1,ax1 = plt.subplots(1,1,figsize=(1,3))\r\n",
        "sns.barplot(data=feature_imp_q2,x=\"SHAP\",y=\"Inputvariable\",palette=sns.color_palette(\"Blues_r\",21),ax=ax1)\r\n",
        "fig1.savefig(\"featuresq2.pdf\")\r\n",
        "\r\n",
        "fig1,ax1 = plt.subplots(1,1,figsize=(1,3))\r\n",
        "sns.barplot(data=feature_imp_q4,x=\"SHAP\",y=\"Inputvariable\",palette=sns.color_palette(\"Blues_r\",21),ax=ax1)\r\n",
        "fig1.savefig(\"featuresq4.pdf\")"
      ]
    },
    {
      "cell_type": "code",
      "execution_count": null,
      "metadata": {},
      "outputs": [],
      "source": []
    },
    {
      "cell_type": "code",
      "execution_count": null,
      "metadata": {
        "colab": {
          "base_uri": "https://localhost:8080/",
          "height": 1000
        },
        "id": "fENFwPR0Etwk",
        "outputId": "0f50eb98-f0d2-421e-b718-4768e6733118"
      },
      "outputs": [],
      "source": [
        "fig,ax =plt.subplots(1,3,figsize=(5,3))\r\n",
        "sns.barplot(data=feature_imp_q1,x=\"SHAP\",y=\"Inputvariable\",palette=sns.color_palette(\"Blues_r\",21),ax=ax[0])\r\n",
        "sns.barplot(data=feature_imp_q2,x=\"SHAP\",y=\"Inputvariable\",palette=sns.color_palette(\"Blues_r\",21),ax=ax[1])\r\n",
        "sns.barplot(data=feature_imp_q4,x=\"SHAP\",y=\"Inputvariable\",palette=sns.color_palette(\"Blues_r\",21),ax=ax[2])"
      ]
    },
    {
      "cell_type": "code",
      "execution_count": null,
      "metadata": {
        "colab": {
          "base_uri": "https://localhost:8080/"
        },
        "id": "0M3PP1p2WDDS",
        "outputId": "d29de90f-98e7-49e2-e82a-b219c170c584"
      },
      "outputs": [],
      "source": [
        "ax[0].set_xlim(0,0.30)\n",
        "ax[1].set_xlim(0,0.30)\n",
        "ax[2].set_xlim(0,0.30)"
      ]
    },
    {
      "cell_type": "code",
      "execution_count": null,
      "metadata": {
        "id": "jBMg4AvTXjq8"
      },
      "outputs": [],
      "source": [
        "fig.tight_layout()"
      ]
    },
    {
      "cell_type": "code",
      "execution_count": null,
      "metadata": {
        "colab": {
          "base_uri": "https://localhost:8080/",
          "height": 1000
        },
        "id": "LXmzTxgaXzaa",
        "outputId": "171c9d8e-0238-4c7d-deea-7f9cd7cb59ee"
      },
      "outputs": [],
      "source": [
        "fig"
      ]
    },
    {
      "cell_type": "code",
      "execution_count": null,
      "metadata": {
        "id": "7Y0agQEXR7dX"
      },
      "outputs": [],
      "source": [
        "fig.savefig(\"feature.pdf\")"
      ]
    },
    {
      "cell_type": "markdown",
      "metadata": {
        "id": "ctjytYHUaY67"
      },
      "source": [
        "## Market cap"
      ]
    },
    {
      "cell_type": "code",
      "execution_count": null,
      "metadata": {
        "id": "2OnR6Wn83R8-"
      },
      "outputs": [],
      "source": [
        "Q1 = joblib.load(\"content/drive/MyDrive/Cand.fælles/Speciale/Python/Q1_test_marketcap.pkl\")\r\n",
        "Q2 = joblib.load(\"content/drive/MyDrive/Cand.fælles/Speciale/Python/Q2_test_marketcap.pkl\")\r\n",
        "Q4 = joblib.load(\"content/drive/MyDrive/Cand.fælles/Speciale/Python/Q4_test_marketcap.pkl\")\r\n",
        "\r\n",
        "Q1= pd.concat(Q1)\r\n",
        "Q2 = pd.concat(Q2)\r\n",
        "Q4 = pd.concat(Q4)\r\n",
        "\r\n",
        "Q1.reset_index(0,drop=True,inplace=True)\r\n",
        "Q2.reset_index(0,drop=True,inplace=True)\r\n",
        "Q4.reset_index(0,drop=True,inplace=True)\r\n",
        "\r\n",
        "Q1[\"horizon\"] = 1\r\n",
        "Q2[\"horizon\"] = 2\r\n",
        "Q4[\"horizon\"] = 4\r\n",
        "\r\n",
        "Q_samlet = pd.concat([Q1,Q2,Q4])\r\n",
        "\r\n",
        "Q_samlet[\"market_cap\"] = Q_samlet[\"market_cap\"] / 1000000"
      ]
    },
    {
      "cell_type": "code",
      "execution_count": null,
      "metadata": {
        "id": "IHKXGD9Y7Uq-"
      },
      "outputs": [],
      "source": [
        "Q_small = Q_samlet[Q_samlet.cap_category==\"small_cap\"]\n",
        "Q_mid = Q_samlet[Q_samlet.cap_category==\"mid_cap\"]\n",
        "Q_large = Q_samlet[Q_samlet.cap_category==\"large_cap\"]"
      ]
    },
    {
      "cell_type": "code",
      "execution_count": null,
      "metadata": {
        "id": "w6Yd_jGz7d7O"
      },
      "outputs": [],
      "source": [
        "\n"
      ]
    },
    {
      "cell_type": "code",
      "execution_count": null,
      "metadata": {
        "id": "xjNEVImMP9oY"
      },
      "outputs": [],
      "source": []
    },
    {
      "cell_type": "code",
      "execution_count": null,
      "metadata": {
        "colab": {
          "base_uri": "https://localhost:8080/",
          "height": 418
        },
        "id": "hWScncN3OYNZ",
        "outputId": "a44f983e-b21a-4695-f915-519b0d036dc7"
      },
      "outputs": [],
      "source": [
        "x1 = Q1.cap_category.value_counts(normalize=True)\r\n",
        "x2 = Q2.cap_category.value_counts(normalize=True)\r\n",
        "x4 = Q4.cap_category.value_counts(normalize=True)\r\n",
        "\r\n",
        "\r\n",
        "\r\n",
        "fig, axes = plt.subplots(1,3,figsize=(20,5))\r\n",
        "wedges,labels,autopct = axes[0].pie(x1.values, labels=[\"small\",\"mid\",\"big\"], autopct='%1.1f%%',\r\n",
        "        shadow=False, startangle=90,)\r\n",
        "plt.setp(labels, fontsize=15)\r\n",
        "\r\n",
        "axes[0].axis('equal')\r\n",
        "axes[0].set_title(\"Q1\",fontsize=20)\r\n",
        "# Q2\r\n",
        "wedges,labels,autopct =axes[1].pie(x2.values, labels=[\"small\",\"mid\",\"big\"], autopct='%1.1f%%',\r\n",
        "        shadow=False, startangle=90)\r\n",
        "plt.setp(labels, fontsize=15)\r\n",
        "\r\n",
        "axes[1].axis('equal')\r\n",
        "axes[1].set_title(\"Q2\",fontsize=20)\r\n",
        "\r\n",
        "\r\n",
        "#Q4 \r\n",
        "wedges,labels,autopct =axes[2].pie(x4.values,labels=[\"small\",\"mid\",\"big\"], autopct='%1.1f%%',\r\n",
        "        shadow=False, startangle=90)\r\n",
        "plt.setp(labels, fontsize=15)\r\n",
        "\r\n",
        "axes[2].axis('equal')\r\n",
        "axes[2].set_title(\"Q4\",fontsize=20)\r\n",
        "\r\n",
        "\r\n"
      ]
    },
    {
      "cell_type": "code",
      "execution_count": null,
      "metadata": {},
      "outputs": [],
      "source": []
    },
    {
      "cell_type": "code",
      "execution_count": null,
      "metadata": {},
      "outputs": [],
      "source": [
        "print(\"test\")"
      ]
    },
    {
      "cell_type": "code",
      "execution_count": null,
      "metadata": {},
      "outputs": [],
      "source": [
        "fig.savefig(\"marketcap.pgf\")\r\n",
        "fig.savefig(\"marketcap.pdf\")"
      ]
    },
    {
      "cell_type": "markdown",
      "metadata": {
        "id": "loAdj6DjbCgH"
      },
      "source": [
        "## Længden af træningsdata"
      ]
    },
    {
      "cell_type": "code",
      "execution_count": null,
      "metadata": {
        "id": "84Ud5fmV4wnA"
      },
      "outputs": [],
      "source": [
        "q1_længde = joblib.load(\"content/drive/MyDrive/Cand.fælles/Speciale/Python/robusthed/Q1_performance_trainchange\")\r\n",
        "q2_længde = joblib.load(\"content/drive/MyDrive/Cand.fælles/Speciale/Python/robusthed/Q2_performance_trainchange\")\r\n",
        "q4_længde = joblib.load(\"content/drive/MyDrive/Cand.fælles/Speciale/Python/robusthed/Q4_performance_trainchange\")"
      ]
    },
    {
      "cell_type": "code",
      "execution_count": null,
      "metadata": {
        "id": "LNAEB9S55KN9"
      },
      "outputs": [],
      "source": [
        "q1_perf_samlet = pd.concat(q1_længde)\n",
        "q2_perf_samlet = pd.concat(q2_længde)\n",
        "q4_perf_samlet = pd.concat(q4_længde)\n",
        "\n",
        "q1_perf_samlet[\"horizon\"] = 1\n",
        "q2_perf_samlet[\"horizon\"] = 2\n",
        "q4_perf_samlet[\"horizon\"] = 4"
      ]
    },
    {
      "cell_type": "code",
      "execution_count": null,
      "metadata": {
        "id": "0nqGDRUbcHBt"
      },
      "outputs": [],
      "source": [
        "df_samlet_perf = pd.concat([q1_perf_samlet,q2_perf_samlet,q4_perf_samlet])\n",
        "\n",
        "plot_df = df_samlet_perf.reset_index()[df_samlet_perf.reset_index().level_1==\"Outperformance MAE(%)\"]\n",
        "\n",
        "plot_df[\"level_0\"] = pd.to_datetime(plot_df[\"level_0\"])"
      ]
    },
    {
      "cell_type": "code",
      "execution_count": null,
      "metadata": {
        "id": "exJbhW8WnUNv"
      },
      "outputs": [],
      "source": [
        "liste_ = []\n",
        "\n",
        "cutoff = pd.Timestamp(\"2018-06-30\")\n",
        "\n",
        "plot_df[\"year\"] = plot_df.level_0.apply(lambda x: cutoff.year - x.year)\n",
        "plot_df.set_index(\"year\",inplace=True)\n",
        "plot_df.sort_index(ascending=False,inplace=True)\n"
      ]
    },
    {
      "cell_type": "code",
      "execution_count": null,
      "metadata": {
        "colab": {
          "base_uri": "https://localhost:8080/",
          "height": 718
        },
        "id": "vcfgOh6LdUPh",
        "outputId": "21994a9b-bda6-4584-cffc-428533f68e44"
      },
      "outputs": [],
      "source": [
        "plot_df"
      ]
    },
    {
      "cell_type": "code",
      "execution_count": null,
      "metadata": {
        "id": "Ffv4ldY3sB6i"
      },
      "outputs": [],
      "source": [
        "plot_df.rename(columns={0:\"Outperformance\"},inplace=True)"
      ]
    },
    {
      "cell_type": "code",
      "execution_count": null,
      "metadata": {
        "id": "mSGdyAzKfVcr"
      },
      "outputs": [],
      "source": []
    },
    {
      "cell_type": "code",
      "execution_count": null,
      "metadata": {
        "id": "igKhGjBIfZWS"
      },
      "outputs": [],
      "source": [
        "import matplotlib.ticker as ticker\n"
      ]
    },
    {
      "cell_type": "code",
      "execution_count": null,
      "metadata": {
        "colab": {
          "base_uri": "https://localhost:8080/",
          "height": 1000
        },
        "id": "btzqwhHPcNqw",
        "outputId": "31ba9637-5075-4530-d719-0b30e09d73c4"
      },
      "outputs": [],
      "source": [
        "sns.lineplot(data=plot_df,x=plot_df.index,y=\"Outperformance\",hue=\"horizon\",palette=sns.color_palette(\"Blues_r\",3))\r\n",
        "ax_længde = plt.gca()\r\n",
        "ax_længde.invert_xaxis()\r\n",
        "ax_længde.set_ylim((-0.03,0.03))\r\n",
        "plt.legend(title=\"Forecast horisont\")\r\n",
        "leg = plt.legend()\r\n",
        "leg.get_texts()[0].set_text(r'$h=1$')\r\n",
        "leg.get_texts()[1].set_text(r'$h=2$')\r\n",
        "leg.get_texts()[2].set_text(r'$h=4$')\r\n",
        "plt.xlim((15.5,2.5))\r\n",
        "plt.xlabel(\"Længde af træningsdata (år)\")\r\n",
        "ax_længde.xaxis.set_major_locator(ticker.IndexLocator(base=2, offset=0))\r\n",
        "\r\n",
        "plt.savefig(\"træningsdata_robusthed.pgf\")\r\n",
        "plt.savefig(\"træningsdata_robusthed.pdf\")\r\n"
      ]
    },
    {
      "cell_type": "code",
      "execution_count": null,
      "metadata": {
        "id": "q-UsS6SHhcoS"
      },
      "outputs": [],
      "source": []
    },
    {
      "cell_type": "code",
      "execution_count": null,
      "metadata": {
        "id": "OD3p6a7wka-Q"
      },
      "outputs": [],
      "source": [
        "plot_df.horizon.unique()"
      ]
    },
    {
      "cell_type": "code",
      "execution_count": null,
      "metadata": {
        "id": "xkGlF5R8bQ9J"
      },
      "outputs": [],
      "source": []
    },
    {
      "cell_type": "markdown",
      "metadata": {
        "id": "LXH3b34K_fsP"
      },
      "source": [
        "## Rolling"
      ]
    },
    {
      "cell_type": "code",
      "execution_count": null,
      "metadata": {
        "id": "aDVw0XDFYx53"
      },
      "outputs": [],
      "source": [
        "import joblib\r\n",
        "import pandas as pd\r\n",
        "plot_rolling = joblib.load(\"content/drive/MyDrive/Cand.fælles/Speciale/Python/robusthed/plot_df_rolling.pkl\")\r\n",
        "plot_rolling[\"year\"] = pd.to_datetime(plot_rolling.index).year\r\n",
        "\r\n"
      ]
    },
    {
      "cell_type": "code",
      "execution_count": null,
      "metadata": {
        "colab": {
          "base_uri": "https://localhost:8080/",
          "height": 231
        },
        "id": "RkfcwdG0o0DN",
        "outputId": "2a2177f6-c069-4406-8265-5b9bab4a90aa"
      },
      "outputs": [],
      "source": [
        "plot_rolling"
      ]
    },
    {
      "cell_type": "code",
      "execution_count": null,
      "metadata": {
        "id": "EbyYfMAq25mT"
      },
      "outputs": [],
      "source": [
        "plot_rolling_long = plot_rolling.melt(id_vars=\"year\")\n",
        "plot_rolling_long.rename(columns={\"variable\":\"Forecast horisont\",\"value\":\"Outperformance\"},inplace=True)\n"
      ]
    },
    {
      "cell_type": "code",
      "execution_count": null,
      "metadata": {
        "colab": {
          "base_uri": "https://localhost:8080/",
          "height": 596
        },
        "id": "njDmkmd7mOqu",
        "outputId": "706ec519-c0a2-484b-9147-d0c2cc2c6549"
      },
      "outputs": [],
      "source": [
        "plot_rolling_long"
      ]
    },
    {
      "cell_type": "code",
      "execution_count": null,
      "metadata": {
        "colab": {
          "base_uri": "https://localhost:8080/",
          "height": 1000
        },
        "id": "VN0fr7_Wm4B9",
        "outputId": "28e022b7-183a-4587-9181-0d4780f29707"
      },
      "outputs": [],
      "source": [
        "sns.lineplot(data=plot_rolling_long,x=\"year\",y=\"Outperformance\",hue=\"Forecast horisont\")\r\n",
        "plt.xlabel(\"År\")\r\n",
        "leg = plt.legend()\r\n",
        "leg.get_texts()[0].set_text(r'$h=1$')\r\n",
        "leg.get_texts()[1].set_text(r'$h=2$')\r\n",
        "leg.get_texts()[2].set_text(r'$h=4$')\r\n",
        "plt.savefig(\"rolling_robusthed.pgf\")\r\n",
        "plt.savefig(\"rolling_robusthed.pdf\")"
      ]
    },
    {
      "cell_type": "code",
      "execution_count": null,
      "metadata": {},
      "outputs": [],
      "source": []
    },
    {
      "cell_type": "markdown",
      "metadata": {
        "id": "9fyiYvRQqBgm"
      },
      "source": [
        "## Corona"
      ]
    },
    {
      "cell_type": "code",
      "execution_count": null,
      "metadata": {
        "id": "P0FVsAd5nrv3"
      },
      "outputs": [],
      "source": [
        "corona_df = joblib.load(\"content/drive/MyDrive/Cand.fælles/Speciale/Python/robusthed/performance_corona.pkl\")"
      ]
    },
    {
      "cell_type": "code",
      "execution_count": null,
      "metadata": {
        "id": "ZY-adGkbqE_k"
      },
      "outputs": [],
      "source": [
        "corona_df.reset_index(inplace=True)"
      ]
    },
    {
      "cell_type": "code",
      "execution_count": null,
      "metadata": {
        "id": "2-vQJp5-qF8B"
      },
      "outputs": [],
      "source": [
        "corona= corona_df[corona_df[\"level_1\"]==\"Outperformance MAE(%)\"]"
      ]
    },
    {
      "cell_type": "code",
      "execution_count": null,
      "metadata": {
        "colab": {
          "base_uri": "https://localhost:8080/",
          "height": 231
        },
        "id": "rHybZsptzaKl",
        "outputId": "106c777d-0ceb-43bd-a78d-48be79a35c39"
      },
      "outputs": [],
      "source": [
        "corona"
      ]
    },
    {
      "cell_type": "code",
      "execution_count": null,
      "metadata": {
        "colab": {
          "base_uri": "https://localhost:8080/"
        },
        "id": "40kqQmW_qwTs",
        "outputId": "b6f51f54-bcf6-4ed5-877d-6166fc8dbc51"
      },
      "outputs": [],
      "source": [
        "corona.rename(columns={0:\"MAE outperformance\",\"level_0\":\"Forecast horisont\"},inplace=True)"
      ]
    },
    {
      "cell_type": "code",
      "execution_count": null,
      "metadata": {
        "colab": {
          "base_uri": "https://localhost:8080/"
        },
        "id": "4hi0JtV6rdaL",
        "outputId": "fd102864-b24a-4f96-e059-0fff835ff201"
      },
      "outputs": [],
      "source": [
        "corona.replace({\"true\": \"Under corona\",\"false\": \"Før corona\"},inplace=True)"
      ]
    },
    {
      "cell_type": "code",
      "execution_count": null,
      "metadata": {
        "colab": {
          "base_uri": "https://localhost:8080/"
        },
        "id": "XBN89VDF0IAu",
        "outputId": "10cfa52b-9f7d-40e4-fcfe-df2e85242636"
      },
      "outputs": [],
      "source": [
        "corona.rename(columns={\"corona\": \"Corona\"},inplace=True)"
      ]
    },
    {
      "cell_type": "code",
      "execution_count": null,
      "metadata": {
        "colab": {
          "base_uri": "https://localhost:8080/",
          "height": 1000
        },
        "id": "6HCLhe49q5uX",
        "outputId": "b1987374-3978-456e-d3b4-b6a419409f9f"
      },
      "outputs": [],
      "source": [
        "sns.barplot(x=\"Forecast horisont\",y=\"MAE outperformance\",data=corona,hue=\"Corona\",orient=\"v\")\n",
        "plt.axhline(0,0,1,color=\"black\",lw=0.35)\n",
        "plt.ylim((-0.05,0.38))\n"
      ]
    },
    {
      "cell_type": "code",
      "execution_count": null,
      "metadata": {
        "id": "xYm1m8DCrAxc"
      },
      "outputs": [],
      "source": [
        "plt.savefig(\"corona.pgf\")\r\n",
        "plt.savefig(\"corona.pdf\")"
      ]
    },
    {
      "cell_type": "code",
      "execution_count": null,
      "metadata": {},
      "outputs": [],
      "source": []
    }
  ],
  "metadata": {
    "interpreter": {
      "hash": "a4e8553e64bc36bc6be87b12213752bf9fcc01544482bb5267d9ec2b4b859be1"
    },
    "kernelspec": {
      "display_name": "Python 3.7.9 64-bit ('base': conda)",
      "name": "python3"
    },
    "language_info": {
      "codemirror_mode": {
        "name": "ipython",
        "version": 3
      },
      "file_extension": ".py",
      "mimetype": "text/x-python",
      "name": "python",
      "nbconvert_exporter": "python",
      "pygments_lexer": "ipython3",
      "version": "3.7.9"
    },
    "orig_nbformat": 3
  },
  "nbformat": 4,
  "nbformat_minor": 0
}