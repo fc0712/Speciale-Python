{
 "cells": [
  {
   "cell_type": "code",
   "execution_count": null,
   "metadata": {},
   "outputs": [],
   "source": [
    "import eikon as ek\n",
    "ek.set_app_key(\"Indtas API\")"
   ]
  },
  {
   "cell_type": "code",
   "execution_count": null,
   "metadata": {},
   "outputs": [],
   "source": [
    "# Importing eikon csv\n",
    "import pandas as pd\n",
    "eikon = pd.read_csv(\"eikon_isin.csv\",header=0)\n"
   ]
  },
  {
   "cell_type": "code",
   "execution_count": null,
   "metadata": {},
   "outputs": [],
   "source": [
    "isin_list = eikon.iloc[:,0].tolist()"
   ]
  },
  {
   "cell_type": "code",
   "execution_count": null,
   "metadata": {
    "collapsed": true,
    "jupyter": {
     "outputs_hidden": true
    }
   },
   "outputs": [],
   "source": [
    "isin_list"
   ]
  },
  {
   "cell_type": "code",
   "execution_count": null,
   "metadata": {},
   "outputs": [],
   "source": [
    "ric = pd.read_csv(\"RIC_eikon.csv\",header=None)"
   ]
  },
  {
   "cell_type": "code",
   "execution_count": null,
   "metadata": {},
   "outputs": [],
   "source": [
    "ric.isna().value_counts()"
   ]
  },
  {
   "cell_type": "code",
   "execution_count": null,
   "metadata": {},
   "outputs": [],
   "source": [
    "df, err = ek.get_data(isin_list[:10],['TR.EPSFRActValue','TR.EPSFRActValue.calcdate','TR.EPSFRActValue.periodenddate','TR.NumberofAnalysts','TR.TotalReturn1Mo','TR.RepEPSMean(Period=FQ2,Frq=CQ,SDate=0,EDate=-81)',\"TR.RepEPSMean.periodenddate\"], {'SDate': -50, 'EDate': 0, 'FRQ': 'CQ',\"Period\":\"FQ1\"})\n"
   ]
  },
  {
   "cell_type": "code",
   "execution_count": null,
   "metadata": {},
   "outputs": [],
   "source": [
    "df[\"Earnings Per Share Reported - Actual\"].isna().sum()"
   ]
  },
  {
   "cell_type": "code",
   "execution_count": null,
   "metadata": {},
   "outputs": [],
   "source": [
    "df[df[\"Earnings Per Share Reported - Actual\"].isna() == False].Instrument.nunique()"
   ]
  },
  {
   "cell_type": "code",
   "execution_count": null,
   "metadata": {},
   "outputs": [],
   "source": [
    "df[df[\"Number of Analysts\"]>0]"
   ]
  },
  {
   "cell_type": "code",
   "execution_count": null,
   "metadata": {},
   "outputs": [],
   "source": []
  },
  {
   "cell_type": "markdown",
   "metadata": {},
   "source": [
    "## Analyst Estimates"
   ]
  },
  {
   "cell_type": "code",
   "execution_count": null,
   "metadata": {},
   "outputs": [],
   "source": [
    "import time"
   ]
  },
  {
   "cell_type": "code",
   "execution_count": null,
   "metadata": {},
   "outputs": [],
   "source": [
    "df_final_list = []\n",
    "\n",
    "fields = ['TR.EPSMean.calcdate','TR.EPSMean.periodenddate','TR.EPSMean','TR.EPSStdDev',\"TR.EPSActSurprise\"]\n",
    "params = {'SDate': -84, 'EDate': 0, 'FRQ': 'CQ',\"Period\":\"FQ2\"}\n",
    "\n",
    "for li in isin_250:\n",
    "    df_temp,err_temp = ek.get_data(li,fields,params)\n",
    "    df_final_list.append(df_temp)\n",
    "    time.sleep(1)\n",
    "    print(\"Success\")\n",
    "\n",
    "    \n",
    "    \n",
    "df_final_test_anal = pd.concat(df_final_list, ignore_index=True)"
   ]
  },
  {
   "cell_type": "code",
   "execution_count": null,
   "metadata": {},
   "outputs": [],
   "source": [
    "df_final_test_anal.info()"
   ]
  },
  {
   "cell_type": "code",
   "execution_count": null,
   "metadata": {},
   "outputs": [],
   "source": [
    "df_final_test_anal[\"Earnings Per Share - Actual Surprise\"].value_counts(dropna=False)"
   ]
  },
  {
   "cell_type": "code",
   "execution_count": null,
   "metadata": {},
   "outputs": [],
   "source": [
    "df_analyst,err =  ek.get_data(isin_list[:3500],['TR.RepEPSMean.calcdate','TR.RepEPSMean.periodenddate','TR.RepEPSMean','TR.RepEPSStdDev'],{'SDate': -83, 'EDate': 0, 'FRQ': 'CQ',\"Period\":\"FQ2\"})\n",
    "time.sleep(5)\n",
    "df_analyst_1,err_1 =  ek.get_data(isin_list[3500:5000],['TR.RepEPSMean.calcdate','TR.RepEPSMean.periodenddate','TR.RepEPSMean','TR.RepEPSStdDev'],{'SDate': -83, 'EDate': 0, 'FRQ': 'CQ',\"Period\":\"FQ2\"})\n",
    "time.sleep(5)\n",
    "df_analyst_2,err_2 =  ek.get_data(isin_list[5000:6500],['TR.RepEPSMean.calcdate','TR.RepEPSMean.periodenddate','TR.RepEPSMean','TR.RepEPSStdDev'],{'SDate': -83, 'EDate': 0, 'FRQ': 'CQ',\"Period\":\"FQ2\"})\n",
    "time.sleep(5)\n",
    "df_analyst_3,err_3 =  ek.get_data(isin_list[6500:],['TR.RepEPSMean.calcdate','TR.RepEPSMean.periodenddate','TR.RepEPSMean','TR.RepEPSStdDev'],{'SDate': -83, 'EDate': 0, 'FRQ': 'CQ',\"Period\":\"FQ2\"})"
   ]
  },
  {
   "cell_type": "code",
   "execution_count": null,
   "metadata": {},
   "outputs": [],
   "source": [
    "df_analyst[\"Earnings Per Share Reported - Standard Deviation\"].isna().sum()"
   ]
  },
  {
   "cell_type": "code",
   "execution_count": null,
   "metadata": {},
   "outputs": [],
   "source": [
    "df_analyst_total = df_analyst.append([df_analyst_1,df_analyst_2,df_analyst_3])"
   ]
  },
  {
   "cell_type": "code",
   "execution_count": null,
   "metadata": {},
   "outputs": [],
   "source": [
    "df_analyst_total[\"Earnings Per Share Reported - Mean\"].isna().count() - df_analyst_total[\"Earnings Per Share Reported - Mean\"].isna().sum()"
   ]
  },
  {
   "cell_type": "code",
   "execution_count": null,
   "metadata": {},
   "outputs": [],
   "source": [
    "df_analyst_total[df_analyst_total[\"Earnings Per Share Reported - Mean\"].notnull()].Instrument.nunique()"
   ]
  },
  {
   "cell_type": "code",
   "execution_count": null,
   "metadata": {},
   "outputs": [],
   "source": []
  },
  {
   "cell_type": "markdown",
   "metadata": {},
   "source": [
    "## Actuals"
   ]
  },
  {
   "cell_type": "code",
   "execution_count": null,
   "metadata": {},
   "outputs": [],
   "source": [
    "fields = [\"TR.EPSFRActValue.periodenddate\",\"TR.EPSFRActValue\", \"TR.EPSFRActValue.currency\",\n",
    "          \"TR.TotalReturn1Mo\", 'TR.F.RnD','TR.F.RestrChrg','TR.F.NetIncBefMinIntr', 'TR.F.SGATot']\n",
    "params = {'SDate': -83, 'EDate': 0, 'FRQ': 'CQ',\"Period\":\"FQ0\"}\n",
    "\n",
    "\n",
    "df_actual,err =  ek.get_data(isin_list[:1000],fields,params)\n",
    "time.sleep(5)\n",
    "df_actual_1,err_1 =  ek.get_data(isin_list[1000:2000],fields,params)\n",
    "time.sleep(5)\n",
    "df_actual_2,err_2 =  ek.get_data(isin_list[2000:3000],fields,params)\n",
    "time.sleep(5)\n",
    "df_actual_3,err_3 =  ek.get_data(isin_list[3000:4000],fields,params)\n",
    "time.sleep(5)\n",
    "df_actual_4,err_4 =  ek.get_data(isin_list[4000:5000],fields,params)\n",
    "time.sleep(5)\n",
    "df_actual_5,err_5 =  ek.get_data(isin_list[5000:6000],fields,params)\n",
    "time.sleep(5)\n",
    "df_actual_6,err_6 =  ek.get_data(isin_list[6000:],fields,params)"
   ]
  },
  {
   "cell_type": "code",
   "execution_count": null,
   "metadata": {},
   "outputs": [],
   "source": [
    "def chunks(lst, n):\n",
    "    \"\"\"Yield successive n-sized chunks from lst.\"\"\"\n",
    "    for i in range(0, len(lst), n):\n",
    "        yield lst[i:i + n]\n",
    "\n",
    "\n",
    "isin_250 = list(chunks(isin_list,250))\n"
   ]
  },
  {
   "cell_type": "code",
   "execution_count": null,
   "metadata": {},
   "outputs": [],
   "source": []
  },
  {
   "cell_type": "code",
   "execution_count": null,
   "metadata": {},
   "outputs": [],
   "source": [
    "df_final_list = []\n",
    "\n",
    "fields = [\"TR.EPSFRActValue.periodenddate\",\"TR.EPSFRActValue\", \"TR.EPSFRActValue.currency\",\n",
    "          \"TR.TotalReturn1Mo\", 'TR.F.RnD','TR.F.RestrChrg','TR.F.NetIncBefMinIntr', 'TR.F.SGATot']\n",
    "params = {'SDate': -83, 'EDate': 0, 'FRQ': 'CQ',\"Period\":\"FQ0\"}\n",
    "\n",
    "for li in isin_250:\n",
    "    df_temp,err_temp = ek.get_data(li,fields,params)\n",
    "    df_final_list.append(df_temp)\n",
    "    time.sleep(1)\n",
    "    print(\"Success\")"
   ]
  },
  {
   "cell_type": "code",
   "execution_count": null,
   "metadata": {},
   "outputs": [],
   "source": [
    "df_temp[\"Research & Development Expense\"].isna()"
   ]
  },
  {
   "cell_type": "code",
   "execution_count": null,
   "metadata": {},
   "outputs": [],
   "source": [
    "df_final_list[4]"
   ]
  },
  {
   "cell_type": "code",
   "execution_count": null,
   "metadata": {},
   "outputs": [],
   "source": [
    "df_final = pd.concat(df_final_list, ignore_index=True)"
   ]
  },
  {
   "cell_type": "code",
   "execution_count": null,
   "metadata": {},
   "outputs": [],
   "source": [
    "df_final[df_final[\"Earnings Per Share Reported - Actual\"].notnull()==True].sort_values(by=\"Period End Date\")"
   ]
  },
  {
   "cell_type": "code",
   "execution_count": null,
   "metadata": {},
   "outputs": [],
   "source": [
    "df_final.info()"
   ]
  },
  {
   "cell_type": "code",
   "execution_count": null,
   "metadata": {},
   "outputs": [],
   "source": [
    "df_final[\"Earnings Per Share Reported - Actual\"].value_counts(dropna=False)"
   ]
  },
  {
   "cell_type": "code",
   "execution_count": null,
   "metadata": {},
   "outputs": [],
   "source": [
    "df_final[\"Net Income before Minority Interest\"].value_counts()"
   ]
  },
  {
   "cell_type": "code",
   "execution_count": null,
   "metadata": {},
   "outputs": [],
   "source": [
    "df_final[df_final[\"Instrument\"]==\"NL0000334118\"][\"Earnings Per Share Reported - Actual\"].isnull()"
   ]
  },
  {
   "cell_type": "code",
   "execution_count": null,
   "metadata": {},
   "outputs": [],
   "source": []
  },
  {
   "cell_type": "code",
   "execution_count": null,
   "metadata": {},
   "outputs": [],
   "source": [
    "df_final_list = []\n",
    "\n",
    "for li in isin_250:\n",
    "    df_temp,err_temp = ek.get_data(li,fields,params)\n",
    "    df_final_list.append(df_temp)\n",
    "    time.sleep(1)\n",
    "    print(\"Success\")"
   ]
  },
  {
   "cell_type": "code",
   "execution_count": null,
   "metadata": {},
   "outputs": [],
   "source": [
    "df_final_list = []\n",
    "\n",
    "fields = [\"TR.EPSFRActValue.periodenddate\",\"TR.EPSFRActValue\", \"TR.EPSFRActValue.currency\",\"TR.EPSActValue\",\"TR.F.EPSDilExclExordItemsNormTot\"]\n",
    "params = {'SDate': -83, 'EDate': 0, 'FRQ': 'CQ',\"Period\":\"FQ0\"}\n",
    "\n",
    "for li in isin_250:\n",
    "    df_temp,err_temp = ek.get_data(li,fields,params)\n",
    "    df_final_list.append(df_temp)\n",
    "    time.sleep(1)\n",
    "    print(\"Success\")\n",
    "\n",
    "    \n",
    "    \n",
    "df_final_test = pd.concat(df_final_list, ignore_index=True)"
   ]
  },
  {
   "cell_type": "code",
   "execution_count": null,
   "metadata": {},
   "outputs": [],
   "source": [
    "df_final_test.info()"
   ]
  },
  {
   "cell_type": "code",
   "execution_count": null,
   "metadata": {},
   "outputs": [],
   "source": [
    "df_final_test[\"change\"] = df_final_test[\"Earnings Per Share Reported - Actual\"]/df_final_test[\"EPS - Diluted - excl Extraordinary Items - Normalized -Total\"]-1"
   ]
  },
  {
   "cell_type": "code",
   "execution_count": null,
   "metadata": {},
   "outputs": [],
   "source": [
    "df_final_test.tail()"
   ]
  },
  {
   "cell_type": "code",
   "execution_count": null,
   "metadata": {},
   "outputs": [],
   "source": []
  }
 ],
 "metadata": {
  "kernelspec": {
   "display_name": "Python 3",
   "language": "python",
   "name": "python3"
  },
  "language_info": {
   "codemirror_mode": {
    "name": "ipython",
    "version": 3
   },
   "file_extension": ".py",
   "mimetype": "text/x-python",
   "name": "python",
   "nbconvert_exporter": "python",
   "pygments_lexer": "ipython3",
   "version": "3.7.9"
  }
 },
 "nbformat": 4,
 "nbformat_minor": 4
}