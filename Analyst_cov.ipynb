{
 "cells": [
  {
   "cell_type": "code",
   "execution_count": null,
   "metadata": {},
   "outputs": [],
   "source": [
    "import pandas as pd"
   ]
  },
  {
   "cell_type": "code",
   "execution_count": null,
   "metadata": {},
   "outputs": [],
   "source": [
    "df = pd.read_csv(\"input.csv.zip\")\n",
    "df_2 = pd.read_csv(\"input_2Q.csv.zip\")\n",
    "df_4 = pd.read_csv(\"input_4Q.csv.zip\")"
   ]
  },
  {
   "cell_type": "code",
   "execution_count": null,
   "metadata": {},
   "outputs": [],
   "source": [
    "df_cusip = df.CUSIP.unique().tolist()\n",
    "df2_cusip = df_2.cusip.unique().tolist()\n",
    "df4_cusip = df_4.cusip.unique().tolist()\n"
   ]
  },
  {
   "cell_type": "code",
   "execution_count": null,
   "metadata": {},
   "outputs": [],
   "source": []
  },
  {
   "cell_type": "code",
   "execution_count": null,
   "metadata": {},
   "outputs": [],
   "source": [
    "def chunks(lst, n):\n",
    "    \"\"\"Yield successive n-sized chunks from lst.\"\"\"\n",
    "    for i in range(0, len(lst), n):\n",
    "        yield lst[i:i + n]\n",
    "\n",
    "list_1q = list(chunks(df_cusip,20))\n",
    "list_2q = list(chunks(df2_cusip,20))\n",
    "list_4q = list(chunks(df4_cusip,20))"
   ]
  },
  {
   "cell_type": "code",
   "execution_count": null,
   "metadata": {},
   "outputs": [],
   "source": [
    "import eikon as ek\n",
    "ek.set_app_key(\"03edf78fe41c4945af6db249d605d0ee35ff7931\")"
   ]
  },
  {
   "cell_type": "code",
   "execution_count": null,
   "metadata": {},
   "outputs": [],
   "source": [
    "fields = ['TR.NumberOfAnalysts.calcdate','TR.NumberOfAnalysts.periodenddate','TR.NumberOfAnalysts']\n",
    "params = {'SDate': \"1994-12-31\", 'EDate': \"2020-12-31\", 'FRQ': 'CQ',\"Period\":\"FQ2\"}\n",
    "\n",
    "df_temp,err_temp = ek.get_data(\"037833100\",fields,params)"
   ]
  },
  {
   "cell_type": "markdown",
   "metadata": {},
   "source": [
    "# 1Q"
   ]
  },
  {
   "cell_type": "code",
   "execution_count": null,
   "metadata": {},
   "outputs": [],
   "source": [
    "import time\n",
    "df1_final_list = []\n",
    "i=0\n",
    "fields = ['TR.NumberOfAnalysts.calcdate','TR.NumberOfAnalysts.periodenddate','TR.NumberOfAnalysts']\n",
    "params = {'SDate': \"1994-12-31\", 'EDate': \"2020-12-31\", 'FRQ': 'CQ',\"Period\":\"FQ2\"}\n",
    "\n",
    "for li in list_1q:\n",
    "    df_temp,err_temp = ek.get_data(li,fields,params)\n",
    "    df1_final_list.append(df_temp)\n",
    "    time.sleep(1)\n",
    "    i +=1\n",
    "    print(i)\n",
    "df_anal_cov_1Q= pd.concat(df1_final_list, ignore_index=True)"
   ]
  },
  {
   "cell_type": "code",
   "execution_count": null,
   "metadata": {},
   "outputs": [],
   "source": [
    "df_anal_cov_1Q.groupby(\"Instrument\").std()"
   ]
  },
  {
   "cell_type": "markdown",
   "metadata": {},
   "source": [
    "# 2Q"
   ]
  },
  {
   "cell_type": "code",
   "execution_count": null,
   "metadata": {},
   "outputs": [],
   "source": [
    "import time\n",
    "df2_final_list = []\n",
    "i=0\n",
    "fields = ['TR.NumberOfAnalysts.calcdate','TR.NumberOfAnalysts.periodenddate','TR.NumberOfAnalysts']\n",
    "params = {'SDate': \"1994-12-31\", 'EDate': \"2020-12-31\", 'FRQ': 'CQ',\"Period\":\"FQ3\"}\n",
    "\n",
    "for li in list_2q:\n",
    "    df_temp,err_temp = ek.get_data(li,fields,params)\n",
    "    df2_final_list.append(df_temp)\n",
    "    time.sleep(1)\n",
    "    i +=1\n",
    "    print(i)\n",
    "df_anal_cov_2Q= pd.concat(df2_final_list, ignore_index=True)"
   ]
  },
  {
   "cell_type": "code",
   "execution_count": null,
   "metadata": {},
   "outputs": [],
   "source": [
    "df_anal_cov_2Q"
   ]
  },
  {
   "cell_type": "markdown",
   "metadata": {},
   "source": [
    "# 4Q"
   ]
  },
  {
   "cell_type": "code",
   "execution_count": null,
   "metadata": {},
   "outputs": [],
   "source": [
    "import time\n",
    "df4_final_list = []\n",
    "i=0\n",
    "fields = ['TR.NumberOfAnalysts.calcdate','TR.NumberOfAnalysts.periodenddate','TR.NumberOfAnalysts']\n",
    "params = {'SDate': \"1994-12-31\", 'EDate': \"2020-12-31\", 'FRQ': 'CQ',\"Period\":\"FQ5\"}\n",
    "\n",
    "for li in list_4q:\n",
    "    df_temp,err_temp = ek.get_data(li,fields,params)\n",
    "    df4_final_list.append(df_temp)\n",
    "    time.sleep(1)\n",
    "    i +=1\n",
    "    print(i)\n",
    "df_anal_cov_4Q= pd.concat(df4_final_list, ignore_index=True)"
   ]
  },
  {
   "cell_type": "code",
   "execution_count": null,
   "metadata": {},
   "outputs": [],
   "source": [
    "df_anal_cov_4Q"
   ]
  },
  {
   "cell_type": "code",
   "execution_count": null,
   "metadata": {},
   "outputs": [],
   "source": [
    "df_anal_cov_4Q[df_anal_cov_4Q[\"Number of Analysts\"]==0]"
   ]
  },
  {
   "cell_type": "code",
   "execution_count": null,
   "metadata": {},
   "outputs": [],
   "source": [
    "df_anal_cov_1Q.to_csv(\"df_anal_cov_1Q.csv\",index=False)\n",
    "df_anal_cov_2Q.to_csv(\"df_anal_cov_2Q.csv\",index=False)\n",
    "df_anal_cov_4Q.to_csv(\"df_anal_cov_4Q.csv\",index=False)"
   ]
  },
  {
   "cell_type": "code",
   "execution_count": null,
   "metadata": {},
   "outputs": [],
   "source": [
    "test = pd.read_csv(\"df_anal_cov_2Q.csv\")"
   ]
  },
  {
   "cell_type": "code",
   "execution_count": null,
   "metadata": {},
   "outputs": [],
   "source": []
  },
  {
   "cell_type": "markdown",
   "metadata": {},
   "source": [
    "# merging"
   ]
  },
  {
   "cell_type": "code",
   "execution_count": null,
   "metadata": {},
   "outputs": [],
   "source": [
    "df[\"Forecasttidspunkt\"] = pd.to_datetime(df[\"Forecasttidspunkt\"])\n",
    "df_anal_cov_1Q[\"date\"] =  pd.to_datetime(df_anal_cov_1Q[\"Calc Date\"])\n",
    "\n",
    "df_2[\"Forecasttidspunkt\"] = pd.to_datetime(df_2[\"Forecasttidspunkt\"])\n",
    "df_anal_cov_2Q[\"date\"] =  pd.to_datetime(df_anal_cov_2Q[\"Calc Date\"])\n",
    "\n",
    "df_4[\"Forecasttidspunkt\"] = pd.to_datetime(df_4[\"Forecasttidspunkt\"])\n",
    "df_anal_cov_4Q[\"date\"] =  pd.to_datetime(df_anal_cov_4Q[\"Calc Date\"])\n"
   ]
  },
  {
   "cell_type": "code",
   "execution_count": null,
   "metadata": {},
   "outputs": [],
   "source": [
    "dro"
   ]
  },
  {
   "cell_type": "code",
   "execution_count": null,
   "metadata": {},
   "outputs": [],
   "source": [
    "drop_list = [\"Calc Date\",\"Period End Date\"]\n",
    "df_anal_cov_1Q.drop(drop_list,axis=1)"
   ]
  },
  {
   "cell_type": "code",
   "execution_count": null,
   "metadata": {},
   "outputs": [],
   "source": [
    "df_1_merge = df.merge(df_anal_cov_1Q,how=\"left\",left_on=[\"Forecasttidspunkt\",\"CUSIP\"],right_on=[\"date\",\"Instrument\"])\n",
    "\n",
    "df_2_merge = df_2.merge(df_anal_cov_2Q,how=\"left\",left_on=[\"Forecasttidspunkt\",\"cusip\"],right_on=[\"date\",\"Instrument\"])\n",
    "\n",
    "df_4_merge = df_4.merge(df_anal_cov_4Q,how=\"left\",left_on=[\"Forecasttidspunkt\",\"cusip\"],right_on=[\"date\",\"Instrument\"])"
   ]
  },
  {
   "cell_type": "code",
   "execution_count": null,
   "metadata": {},
   "outputs": [],
   "source": [
    "df_1_merge[\"Number of Analysts\"].mean()"
   ]
  },
  {
   "cell_type": "code",
   "execution_count": null,
   "metadata": {},
   "outputs": [],
   "source": [
    "df_2_merge[\"Number of Analysts\"].mean()"
   ]
  },
  {
   "cell_type": "code",
   "execution_count": null,
   "metadata": {},
   "outputs": [],
   "source": [
    "df_4_merge[\"Number of Analysts\"].mean()"
   ]
  },
  {
   "cell_type": "code",
   "execution_count": null,
   "metadata": {},
   "outputs": [],
   "source": []
  },
  {
   "cell_type": "code",
   "execution_count": null,
   "metadata": {},
   "outputs": [],
   "source": []
  }
 ],
 "metadata": {
  "kernelspec": {
   "display_name": "Python 3",
   "language": "python",
   "name": "python3"
  },
  "language_info": {
   "codemirror_mode": {
    "name": "ipython",
    "version": 3
   },
   "file_extension": ".py",
   "mimetype": "text/x-python",
   "name": "python",
   "nbconvert_exporter": "python",
   "pygments_lexer": "ipython3",
   "version": "3.7.9"
  }
 },
 "nbformat": 4,
 "nbformat_minor": 4
}